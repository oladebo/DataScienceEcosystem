{
 "cells": [
  {
   "cell_type": "markdown",
   "id": "d816270a",
   "metadata": {},
   "source": [
    "<h1>Data Science Tools and Ecosystem</h1>"
   ]
  },
  {
   "cell_type": "markdown",
   "id": "446bc797",
   "metadata": {},
   "source": [
    "# In this notebook, Data Science Tools and Ecosystem are summarized"
   ]
  },
  {
   "cell_type": "markdown",
   "id": "2a744db0",
   "metadata": {},
   "source": [
    "# Some of the popular languages that Data Scientists use are:\n",
    "1. Python\n",
    "2. RStudio\n",
    "3. JavaScript\n",
    "4. HTML\n",
    "5. C++\n",
    "6. Scala\n",
    "7. SQL"
   ]
  },
  {
   "cell_type": "markdown",
   "id": "67bf861d",
   "metadata": {},
   "source": [
    "# Some of the commonly used libraries used by Data Scientists include:\n",
    "1. Numpy\n",
    "2. Pandas\n",
    "3. Matplotlib\n",
    "4. Seaborn\n",
    "5. TensorFlow\n",
    "6. SciPy\n",
    "7. Keras"
   ]
  },
  {
   "cell_type": "markdown",
   "id": "05000f51",
   "metadata": {},
   "source": [
    "# Table"
   ]
  },
  {
   "cell_type": "markdown",
   "id": "0d8be934",
   "metadata": {},
   "source": [
    "|Data Science Tools|\n",
    "|..................|\n",
    "|Numpy|\n",
    "|Pandas|\n",
    "|Sci-kit Learn|\n",
    "|Apache Hadoop|\n",
    "|TensorFlow|\n",
    "|SciPy|"
   ]
  },
  {
   "cell_type": "code",
   "execution_count": null,
   "id": "b32a969c",
   "metadata": {},
   "outputs": [],
   "source": []
  },
  {
   "cell_type": "markdown",
   "id": "19ffc483",
   "metadata": {},
   "source": [
    "<h3>Below are a few examples of evaluating arithmetic expressions in Python</h3>"
   ]
  },
  {
   "cell_type": "markdown",
   "id": "05b761cf",
   "metadata": {},
   "source": [
    "<h3>This a simple arithmetic expression to mutiply then add integers</h3>"
   ]
  },
  {
   "cell_type": "code",
   "execution_count": 4,
   "id": "9a7e1719",
   "metadata": {},
   "outputs": [
    {
     "data": {
      "text/plain": [
       "17"
      ]
     },
     "execution_count": 4,
     "metadata": {},
     "output_type": "execute_result"
    }
   ],
   "source": [
    "(3*4)+5"
   ]
  },
  {
   "cell_type": "markdown",
   "id": "77b7d342",
   "metadata": {},
   "source": [
    "<h3>This will convert 200 minutes to hours by diving by 60<h/h3>"
   ]
  },
  {
   "cell_type": "code",
   "execution_count": 5,
   "id": "a5f35d4e",
   "metadata": {},
   "outputs": [
    {
     "data": {
      "text/plain": [
       "3.3333333333333335"
      ]
     },
     "execution_count": 5,
     "metadata": {},
     "output_type": "execute_result"
    }
   ],
   "source": [
    "200/60"
   ]
  },
  {
   "cell_type": "markdown",
   "id": "05d79f50",
   "metadata": {},
   "source": [
    "# Some of the key takeaways from the course\n",
    "\n",
    "<b> Objectives:\n",
    "\n",
    "- Numpy\n",
    "- Pandas\n",
    "- Seaborn\n",
    "- Matplotlib\n",
    "- Keras\n",
    "    "
   ]
  },
  {
   "cell_type": "markdown",
   "id": "25553829",
   "metadata": {},
   "source": [
    "# Author\n",
    "\n",
    "<h2>Oladebowale Adesoye Ayanniyi<h2/h2>"
   ]
  },
  {
   "cell_type": "code",
   "execution_count": null,
   "id": "083ec573",
   "metadata": {},
   "outputs": [],
   "source": []
  }
 ],
 "metadata": {
  "kernelspec": {
   "display_name": "Python 3 (ipykernel)",
   "language": "python",
   "name": "python3"
  },
  "language_info": {
   "codemirror_mode": {
    "name": "ipython",
    "version": 3
   },
   "file_extension": ".py",
   "mimetype": "text/x-python",
   "name": "python",
   "nbconvert_exporter": "python",
   "pygments_lexer": "ipython3",
   "version": "3.9.13"
  }
 },
 "nbformat": 4,
 "nbformat_minor": 5
}
